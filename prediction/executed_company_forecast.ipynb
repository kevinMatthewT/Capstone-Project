{
 "cells": [
  {
   "cell_type": "code",
   "execution_count": 1,
   "id": "b37ce070",
   "metadata": {
    "execution": {
     "iopub.execute_input": "2025-01-23T17:01:32.389273Z",
     "iopub.status.busy": "2025-01-23T17:01:32.388272Z",
     "iopub.status.idle": "2025-01-23T17:01:32.410625Z",
     "shell.execute_reply": "2025-01-23T17:01:32.409083Z"
    },
    "papermill": {
     "duration": 0.045157,
     "end_time": "2025-01-23T17:01:32.415611",
     "exception": false,
     "start_time": "2025-01-23T17:01:32.370454",
     "status": "completed"
    },
    "tags": [
     "injected-parameters"
    ]
   },
   "outputs": [],
   "source": [
    "# Parameters\n",
    "Company_Name = \"Finance Helpers\"\n",
    "Company_Investor_Name = \"Great Investors\"\n",
    "Domicile_Name = \"Jakarta\"\n"
   ]
  },
  {
   "cell_type": "code",
   "execution_count": 2,
   "id": "21646633",
   "metadata": {
    "execution": {
     "iopub.execute_input": "2025-01-23T17:01:32.440504Z",
     "iopub.status.busy": "2025-01-23T17:01:32.439467Z",
     "iopub.status.idle": "2025-01-23T17:01:32.447078Z",
     "shell.execute_reply": "2025-01-23T17:01:32.446059Z"
    },
    "papermill": {
     "duration": 0.024861,
     "end_time": "2025-01-23T17:01:32.451477",
     "exception": false,
     "start_time": "2025-01-23T17:01:32.426616",
     "status": "completed"
    },
    "tags": []
   },
   "outputs": [],
   "source": [
    "#these will be overwritten based on the parameters that the user will write\n",
    "Company_Name=None\n",
    "Company_Investor_Name= None\n",
    "Domicile_Name= None"
   ]
  },
  {
   "cell_type": "code",
   "execution_count": 3,
   "id": "1502b318",
   "metadata": {
    "execution": {
     "iopub.execute_input": "2025-01-23T17:01:32.478586Z",
     "iopub.status.busy": "2025-01-23T17:01:32.476588Z",
     "iopub.status.idle": "2025-01-23T17:01:32.762731Z",
     "shell.execute_reply": "2025-01-23T17:01:32.760716Z"
    },
    "papermill": {
     "duration": 0.310561,
     "end_time": "2025-01-23T17:01:32.768736",
     "exception": false,
     "start_time": "2025-01-23T17:01:32.458175",
     "status": "completed"
    },
    "tags": []
   },
   "outputs": [],
   "source": [
    "import requests\n",
    "import json"
   ]
  },
  {
   "cell_type": "code",
   "execution_count": 4,
   "id": "9d3eb566",
   "metadata": {
    "execution": {
     "iopub.execute_input": "2025-01-23T17:01:32.803650Z",
     "iopub.status.busy": "2025-01-23T17:01:32.802649Z",
     "iopub.status.idle": "2025-01-23T17:01:32.814182Z",
     "shell.execute_reply": "2025-01-23T17:01:32.812165Z"
    },
    "papermill": {
     "duration": 0.036152,
     "end_time": "2025-01-23T17:01:32.820159",
     "exception": false,
     "start_time": "2025-01-23T17:01:32.784007",
     "status": "completed"
    },
    "tags": []
   },
   "outputs": [],
   "source": [
    "unfiltered_endpoint=\"/api/get/investment\"\n",
    "company_search=\"Finance Helpers\"\n",
    "\n",
    "url=f\"http://localhost:8080{unfiltered_endpoint}\""
   ]
  },
  {
   "cell_type": "code",
   "execution_count": 5,
   "id": "96b8302b",
   "metadata": {
    "execution": {
     "iopub.execute_input": "2025-01-23T17:01:32.855493Z",
     "iopub.status.busy": "2025-01-23T17:01:32.854125Z",
     "iopub.status.idle": "2025-01-23T17:01:33.220361Z",
     "shell.execute_reply": "2025-01-23T17:01:33.216615Z"
    },
    "papermill": {
     "duration": 0.389491,
     "end_time": "2025-01-23T17:01:33.225157",
     "exception": false,
     "start_time": "2025-01-23T17:01:32.835666",
     "status": "completed"
    },
    "tags": []
   },
   "outputs": [],
   "source": [
    "body=requests.get(url).json()"
   ]
  },
  {
   "cell_type": "code",
   "execution_count": 6,
   "id": "8cc8a75e",
   "metadata": {
    "execution": {
     "iopub.execute_input": "2025-01-23T17:01:33.261880Z",
     "iopub.status.busy": "2025-01-23T17:01:33.260199Z",
     "iopub.status.idle": "2025-01-23T17:01:36.409893Z",
     "shell.execute_reply": "2025-01-23T17:01:36.407880Z"
    },
    "papermill": {
     "duration": 3.172784,
     "end_time": "2025-01-23T17:01:36.414421",
     "exception": false,
     "start_time": "2025-01-23T17:01:33.241637",
     "status": "completed"
    },
    "tags": []
   },
   "outputs": [],
   "source": [
    "import pandas as pd\n",
    "df=pd.DataFrame(body)"
   ]
  },
  {
   "cell_type": "code",
   "execution_count": 7,
   "id": "de82de55",
   "metadata": {
    "execution": {
     "iopub.execute_input": "2025-01-23T17:01:36.441456Z",
     "iopub.status.busy": "2025-01-23T17:01:36.439458Z",
     "iopub.status.idle": "2025-01-23T17:01:36.474336Z",
     "shell.execute_reply": "2025-01-23T17:01:36.472316Z"
    },
    "papermill": {
     "duration": 0.052849,
     "end_time": "2025-01-23T17:01:36.478337",
     "exception": false,
     "start_time": "2025-01-23T17:01:36.425488",
     "status": "completed"
    },
    "tags": []
   },
   "outputs": [],
   "source": [
    "df.drop(columns=[\"_id\",\"__v\"],inplace=True, errors='ignore')\n",
    "# df.head(5)"
   ]
  },
  {
   "cell_type": "code",
   "execution_count": 8,
   "id": "12e46f19",
   "metadata": {
    "execution": {
     "iopub.execute_input": "2025-01-23T17:01:36.510112Z",
     "iopub.status.busy": "2025-01-23T17:01:36.508110Z",
     "iopub.status.idle": "2025-01-23T17:01:36.556918Z",
     "shell.execute_reply": "2025-01-23T17:01:36.556918Z"
    },
    "papermill": {
     "duration": 0.069897,
     "end_time": "2025-01-23T17:01:36.561939",
     "exception": false,
     "start_time": "2025-01-23T17:01:36.492042",
     "status": "completed"
    },
    "tags": []
   },
   "outputs": [],
   "source": [
    "df[\"Date_Of_Ownership\"]=pd.to_datetime(df[\"Date_Of_Ownership\"])\n",
    "# df.head(5)"
   ]
  },
  {
   "cell_type": "code",
   "execution_count": 9,
   "id": "f26f0ebe",
   "metadata": {
    "execution": {
     "iopub.execute_input": "2025-01-23T17:01:36.601957Z",
     "iopub.status.busy": "2025-01-23T17:01:36.600956Z",
     "iopub.status.idle": "2025-01-23T17:01:42.902552Z",
     "shell.execute_reply": "2025-01-23T17:01:42.900498Z"
    },
    "papermill": {
     "duration": 6.324142,
     "end_time": "2025-01-23T17:01:42.906562",
     "exception": false,
     "start_time": "2025-01-23T17:01:36.582420",
     "status": "completed"
    },
    "tags": []
   },
   "outputs": [],
   "source": [
    "import matplotlib.pyplot as plt\n",
    "import matplotlib.dates as mdates\n",
    "import seaborn as sns"
   ]
  },
  {
   "cell_type": "markdown",
   "id": "00313ac8",
   "metadata": {
    "papermill": {
     "duration": 0.00753,
     "end_time": "2025-01-23T17:01:42.925013",
     "exception": false,
     "start_time": "2025-01-23T17:01:42.917483",
     "status": "completed"
    },
    "tags": []
   },
   "source": [
    "PREDICTION MODEL"
   ]
  },
  {
   "cell_type": "code",
   "execution_count": 10,
   "id": "268a0c73",
   "metadata": {
    "execution": {
     "iopub.execute_input": "2025-01-23T17:01:42.931964Z",
     "iopub.status.busy": "2025-01-23T17:01:42.931964Z",
     "iopub.status.idle": "2025-01-23T17:01:47.652863Z",
     "shell.execute_reply": "2025-01-23T17:01:47.650848Z"
    },
    "papermill": {
     "duration": 4.724293,
     "end_time": "2025-01-23T17:01:47.656257",
     "exception": false,
     "start_time": "2025-01-23T17:01:42.931964",
     "status": "completed"
    },
    "tags": []
   },
   "outputs": [
    {
     "name": "stderr",
     "output_type": "stream",
     "text": [
      "C:\\Python311\\Lib\\site-packages\\tqdm\\auto.py:21: TqdmWarning: IProgress not found. Please update jupyter and ipywidgets. See https://ipywidgets.readthedocs.io/en/stable/user_install.html\n",
      "  from .autonotebook import tqdm as notebook_tqdm\n"
     ]
    }
   ],
   "source": [
    "from sktime.forecasting.base import ForecastingHorizon\n",
    "from sktime.forecasting.model_selection import temporal_train_test_split\n",
    "from sktime.forecasting.theta import ThetaForecaster\n",
    "from sktime.performance_metrics.forecasting import mean_absolute_percentage_error\n",
    "from sktime.utils.plotting import plot_series\n",
    "\n",
    "from sklearn.metrics import mean_absolute_error, r2_score\n",
    "from prophet import Prophet\n",
    "import numpy as np"
   ]
  },
  {
   "cell_type": "code",
   "execution_count": 11,
   "id": "bb01e2d6",
   "metadata": {
    "execution": {
     "iopub.execute_input": "2025-01-23T17:01:47.685050Z",
     "iopub.status.busy": "2025-01-23T17:01:47.683727Z",
     "iopub.status.idle": "2025-01-23T17:01:47.734989Z",
     "shell.execute_reply": "2025-01-23T17:01:47.732978Z"
    },
    "papermill": {
     "duration": 0.070077,
     "end_time": "2025-01-23T17:01:47.737995",
     "exception": false,
     "start_time": "2025-01-23T17:01:47.667918",
     "status": "completed"
    },
    "tags": []
   },
   "outputs": [
    {
     "data": {
      "text/html": [
       "<div>\n",
       "<style scoped>\n",
       "    .dataframe tbody tr th:only-of-type {\n",
       "        vertical-align: middle;\n",
       "    }\n",
       "\n",
       "    .dataframe tbody tr th {\n",
       "        vertical-align: top;\n",
       "    }\n",
       "\n",
       "    .dataframe thead th {\n",
       "        text-align: right;\n",
       "    }\n",
       "</style>\n",
       "<table border=\"1\" class=\"dataframe\">\n",
       "  <thead>\n",
       "    <tr style=\"text-align: right;\">\n",
       "      <th></th>\n",
       "      <th>Company</th>\n",
       "      <th>Company_Investor</th>\n",
       "      <th>Domicile</th>\n",
       "      <th>Year_Of_Operation</th>\n",
       "      <th>Business</th>\n",
       "      <th>Percentage_Ownership</th>\n",
       "      <th>Revenue</th>\n",
       "      <th>Expense</th>\n",
       "      <th>Ebida</th>\n",
       "      <th>Tax_Investment</th>\n",
       "      <th>Price_Asset</th>\n",
       "      <th>Price_Liability</th>\n",
       "      <th>Equity</th>\n",
       "      <th>COGS</th>\n",
       "      <th>Date_Of_Ownership</th>\n",
       "    </tr>\n",
       "  </thead>\n",
       "  <tbody>\n",
       "  </tbody>\n",
       "</table>\n",
       "</div>"
      ],
      "text/plain": [
       "Empty DataFrame\n",
       "Columns: [Company, Company_Investor, Domicile, Year_Of_Operation, Business, Percentage_Ownership, Revenue, Expense, Ebida, Tax_Investment, Price_Asset, Price_Liability, Equity, COGS, Date_Of_Ownership]\n",
       "Index: []"
      ]
     },
     "execution_count": 11,
     "metadata": {},
     "output_type": "execute_result"
    }
   ],
   "source": [
    "df_to_predict= df.loc[(df['Company']== Company_Name) & (df['Company_Investor']== Company_Investor_Name) & (df['Domicile']== Domicile_Name) ]\n",
    "df_to_predict.head(5)"
   ]
  },
  {
   "cell_type": "code",
   "execution_count": 12,
   "id": "8abea583",
   "metadata": {
    "execution": {
     "iopub.execute_input": "2025-01-23T17:01:47.774265Z",
     "iopub.status.busy": "2025-01-23T17:01:47.774265Z",
     "iopub.status.idle": "2025-01-23T17:01:47.797138Z",
     "shell.execute_reply": "2025-01-23T17:01:47.795125Z"
    },
    "papermill": {
     "duration": 0.05361,
     "end_time": "2025-01-23T17:01:47.800599",
     "exception": false,
     "start_time": "2025-01-23T17:01:47.746989",
     "status": "completed"
    },
    "tags": []
   },
   "outputs": [
    {
     "data": {
      "text/plain": [
       "DatetimeIndex([], dtype='datetime64[ns, UTC]', name='Date_Of_Ownership', freq=None)"
      ]
     },
     "execution_count": 12,
     "metadata": {},
     "output_type": "execute_result"
    }
   ],
   "source": [
    "df_to_predict=df_to_predict.set_index(['Date_Of_Ownership'])\n",
    "df_to_predict=df_to_predict.sort_index()\n",
    "df_to_predict.index"
   ]
  },
  {
   "cell_type": "code",
   "execution_count": 13,
   "id": "ec755228",
   "metadata": {
    "execution": {
     "iopub.execute_input": "2025-01-23T17:01:47.836097Z",
     "iopub.status.busy": "2025-01-23T17:01:47.835098Z",
     "iopub.status.idle": "2025-01-23T17:01:47.848053Z",
     "shell.execute_reply": "2025-01-23T17:01:47.846036Z"
    },
    "papermill": {
     "duration": 0.037782,
     "end_time": "2025-01-23T17:01:47.853054",
     "exception": false,
     "start_time": "2025-01-23T17:01:47.815272",
     "status": "completed"
    },
    "tags": []
   },
   "outputs": [],
   "source": [
    "df_to_predict=df_to_predict.reset_index()"
   ]
  },
  {
   "cell_type": "code",
   "execution_count": 14,
   "id": "48c1de10",
   "metadata": {
    "execution": {
     "iopub.execute_input": "2025-01-23T17:01:47.887892Z",
     "iopub.status.busy": "2025-01-23T17:01:47.887892Z",
     "iopub.status.idle": "2025-01-23T17:01:47.908116Z",
     "shell.execute_reply": "2025-01-23T17:01:47.906101Z"
    },
    "papermill": {
     "duration": 0.043785,
     "end_time": "2025-01-23T17:01:47.912129",
     "exception": false,
     "start_time": "2025-01-23T17:01:47.868344",
     "status": "completed"
    },
    "tags": []
   },
   "outputs": [
    {
     "data": {
      "text/html": [
       "<div>\n",
       "<style scoped>\n",
       "    .dataframe tbody tr th:only-of-type {\n",
       "        vertical-align: middle;\n",
       "    }\n",
       "\n",
       "    .dataframe tbody tr th {\n",
       "        vertical-align: top;\n",
       "    }\n",
       "\n",
       "    .dataframe thead th {\n",
       "        text-align: right;\n",
       "    }\n",
       "</style>\n",
       "<table border=\"1\" class=\"dataframe\">\n",
       "  <thead>\n",
       "    <tr style=\"text-align: right;\">\n",
       "      <th></th>\n",
       "      <th>Date_Of_Ownership</th>\n",
       "      <th>Revenue</th>\n",
       "      <th>Expense</th>\n",
       "      <th>Ebida</th>\n",
       "      <th>Tax_Investment</th>\n",
       "      <th>Price_Asset</th>\n",
       "      <th>Price_Liability</th>\n",
       "      <th>Equity</th>\n",
       "      <th>COGS</th>\n",
       "    </tr>\n",
       "  </thead>\n",
       "  <tbody>\n",
       "  </tbody>\n",
       "</table>\n",
       "</div>"
      ],
      "text/plain": [
       "Empty DataFrame\n",
       "Columns: [Date_Of_Ownership, Revenue, Expense, Ebida, Tax_Investment, Price_Asset, Price_Liability, Equity, COGS]\n",
       "Index: []"
      ]
     },
     "execution_count": 14,
     "metadata": {},
     "output_type": "execute_result"
    }
   ],
   "source": [
    "df_to_predict=df_to_predict.drop([\"Company\",\"Company_Investor\",\"Domicile\",\"Business\",\"Percentage_Ownership\",\"Year_Of_Operation\"], axis=1)\n",
    "df_to_predict.head(5)"
   ]
  },
  {
   "cell_type": "code",
   "execution_count": 15,
   "id": "ce434545",
   "metadata": {
    "execution": {
     "iopub.execute_input": "2025-01-23T17:01:47.946239Z",
     "iopub.status.busy": "2025-01-23T17:01:47.945234Z",
     "iopub.status.idle": "2025-01-23T17:01:47.964497Z",
     "shell.execute_reply": "2025-01-23T17:01:47.962031Z"
    },
    "papermill": {
     "duration": 0.042119,
     "end_time": "2025-01-23T17:01:47.968254",
     "exception": false,
     "start_time": "2025-01-23T17:01:47.926135",
     "status": "completed"
    },
    "tags": []
   },
   "outputs": [
    {
     "data": {
      "text/plain": [
       "Date_Of_Ownership    0\n",
       "Revenue              0\n",
       "Expense              0\n",
       "Ebida                0\n",
       "Tax_Investment       0\n",
       "Price_Asset          0\n",
       "Price_Liability      0\n",
       "Equity               0\n",
       "COGS                 0\n",
       "dtype: int64"
      ]
     },
     "execution_count": 15,
     "metadata": {},
     "output_type": "execute_result"
    }
   ],
   "source": [
    "df_to_predict=df_to_predict.dropna()\n",
    "df_to_predict.isna().count()"
   ]
  },
  {
   "cell_type": "code",
   "execution_count": 16,
   "id": "be76a7de",
   "metadata": {
    "execution": {
     "iopub.execute_input": "2025-01-23T17:01:48.007797Z",
     "iopub.status.busy": "2025-01-23T17:01:48.005800Z",
     "iopub.status.idle": "2025-01-23T17:01:48.019896Z",
     "shell.execute_reply": "2025-01-23T17:01:48.017876Z"
    },
    "papermill": {
     "duration": 0.037315,
     "end_time": "2025-01-23T17:01:48.023413",
     "exception": false,
     "start_time": "2025-01-23T17:01:47.986098",
     "status": "completed"
    },
    "tags": []
   },
   "outputs": [],
   "source": [
    "df_to_predict['Date_Of_Ownership'] = pd.to_datetime(df_to_predict['Date_Of_Ownership']).dt.tz_localize(None)\n",
    "df_to_predict2=df_to_predict.copy()"
   ]
  },
  {
   "cell_type": "code",
   "execution_count": 17,
   "id": "d257857d",
   "metadata": {
    "execution": {
     "iopub.execute_input": "2025-01-23T17:01:48.055207Z",
     "iopub.status.busy": "2025-01-23T17:01:48.054211Z",
     "iopub.status.idle": "2025-01-23T17:01:48.082889Z",
     "shell.execute_reply": "2025-01-23T17:01:48.082889Z"
    },
    "papermill": {
     "duration": 0.049699,
     "end_time": "2025-01-23T17:01:48.088453",
     "exception": false,
     "start_time": "2025-01-23T17:01:48.038754",
     "status": "completed"
    },
    "tags": []
   },
   "outputs": [
    {
     "data": {
      "text/html": [
       "<div>\n",
       "<style scoped>\n",
       "    .dataframe tbody tr th:only-of-type {\n",
       "        vertical-align: middle;\n",
       "    }\n",
       "\n",
       "    .dataframe tbody tr th {\n",
       "        vertical-align: top;\n",
       "    }\n",
       "\n",
       "    .dataframe thead th {\n",
       "        text-align: right;\n",
       "    }\n",
       "</style>\n",
       "<table border=\"1\" class=\"dataframe\">\n",
       "  <thead>\n",
       "    <tr style=\"text-align: right;\">\n",
       "      <th></th>\n",
       "      <th>Date_Of_Ownership</th>\n",
       "      <th>Revenue</th>\n",
       "      <th>Expense</th>\n",
       "      <th>Ebida</th>\n",
       "      <th>Tax_Investment</th>\n",
       "      <th>Price_Asset</th>\n",
       "      <th>Price_Liability</th>\n",
       "      <th>Equity</th>\n",
       "      <th>COGS</th>\n",
       "    </tr>\n",
       "  </thead>\n",
       "  <tbody>\n",
       "  </tbody>\n",
       "</table>\n",
       "</div>"
      ],
      "text/plain": [
       "Empty DataFrame\n",
       "Columns: [Date_Of_Ownership, Revenue, Expense, Ebida, Tax_Investment, Price_Asset, Price_Liability, Equity, COGS]\n",
       "Index: []"
      ]
     },
     "execution_count": 17,
     "metadata": {},
     "output_type": "execute_result"
    }
   ],
   "source": [
    "df_to_predict.head()"
   ]
  },
  {
   "cell_type": "code",
   "execution_count": 18,
   "id": "67dcb7cb",
   "metadata": {
    "execution": {
     "iopub.execute_input": "2025-01-23T17:01:48.098826Z",
     "iopub.status.busy": "2025-01-23T17:01:48.098826Z",
     "iopub.status.idle": "2025-01-23T17:01:48.111337Z",
     "shell.execute_reply": "2025-01-23T17:01:48.111337Z"
    },
    "papermill": {
     "duration": 0.01512,
     "end_time": "2025-01-23T17:01:48.111337",
     "exception": false,
     "start_time": "2025-01-23T17:01:48.096217",
     "status": "completed"
    },
    "tags": []
   },
   "outputs": [],
   "source": [
    "days_to_predict = 30"
   ]
  },
  {
   "cell_type": "code",
   "execution_count": 19,
   "id": "2bf8b795",
   "metadata": {
    "execution": {
     "iopub.execute_input": "2025-01-23T17:01:48.133809Z",
     "iopub.status.busy": "2025-01-23T17:01:48.132806Z",
     "iopub.status.idle": "2025-01-23T17:01:58.035471Z",
     "shell.execute_reply": "2025-01-23T17:01:58.035471Z"
    },
    "papermill": {
     "duration": 9.912186,
     "end_time": "2025-01-23T17:01:58.035471",
     "exception": false,
     "start_time": "2025-01-23T17:01:48.123285",
     "status": "completed"
    },
    "tags": []
   },
   "outputs": [
    {
     "name": "stderr",
     "output_type": "stream",
     "text": [
      "00:01:49 - cmdstanpy - INFO - Chain [1] start processing\n"
     ]
    },
    {
     "name": "stderr",
     "output_type": "stream",
     "text": [
      "00:01:50 - cmdstanpy - INFO - Chain [1] done processing\n"
     ]
    },
    {
     "name": "stderr",
     "output_type": "stream",
     "text": [
      "00:01:51 - cmdstanpy - INFO - Chain [1] start processing\n"
     ]
    },
    {
     "name": "stderr",
     "output_type": "stream",
     "text": [
      "00:01:52 - cmdstanpy - INFO - Chain [1] done processing\n"
     ]
    },
    {
     "name": "stderr",
     "output_type": "stream",
     "text": [
      "00:01:52 - cmdstanpy - INFO - Chain [1] start processing\n"
     ]
    },
    {
     "name": "stderr",
     "output_type": "stream",
     "text": [
      "00:01:53 - cmdstanpy - INFO - Chain [1] done processing\n"
     ]
    },
    {
     "name": "stderr",
     "output_type": "stream",
     "text": [
      "00:01:53 - cmdstanpy - INFO - Chain [1] start processing\n"
     ]
    },
    {
     "name": "stderr",
     "output_type": "stream",
     "text": [
      "00:01:53 - cmdstanpy - INFO - Chain [1] done processing\n"
     ]
    },
    {
     "name": "stderr",
     "output_type": "stream",
     "text": [
      "00:01:54 - cmdstanpy - INFO - Chain [1] start processing\n"
     ]
    },
    {
     "name": "stderr",
     "output_type": "stream",
     "text": [
      "00:01:54 - cmdstanpy - INFO - Chain [1] done processing\n"
     ]
    },
    {
     "name": "stderr",
     "output_type": "stream",
     "text": [
      "00:01:55 - cmdstanpy - INFO - Chain [1] start processing\n"
     ]
    },
    {
     "name": "stderr",
     "output_type": "stream",
     "text": [
      "00:01:55 - cmdstanpy - INFO - Chain [1] done processing\n"
     ]
    },
    {
     "name": "stderr",
     "output_type": "stream",
     "text": [
      "00:01:56 - cmdstanpy - INFO - Chain [1] start processing\n"
     ]
    },
    {
     "name": "stderr",
     "output_type": "stream",
     "text": [
      "00:01:56 - cmdstanpy - INFO - Chain [1] done processing\n"
     ]
    },
    {
     "name": "stderr",
     "output_type": "stream",
     "text": [
      "00:01:57 - cmdstanpy - INFO - Chain [1] start processing\n"
     ]
    },
    {
     "name": "stderr",
     "output_type": "stream",
     "text": [
      "00:01:57 - cmdstanpy - INFO - Chain [1] done processing\n"
     ]
    }
   ],
   "source": [
    "forecast_results = {}\n",
    "\n",
    "columns_to_forecast= ['Revenue','Expense','Ebida','Tax_Investment','Price_Asset','Price_Liability','Equity','COGS']\n",
    "\n",
    "for column in columns_to_forecast:\n",
    "    # Prepare the data for Prophet\n",
    "    data = df[['Date_Of_Ownership', column]].rename(columns={'Date_Of_Ownership': 'ds', column: 'y'})\n",
    "    data['ds'] = pd.to_datetime(data['ds']).dt.tz_localize(None)\n",
    "    cap_value = data['y'].quantile(0.95)\n",
    "    data['cap'] = cap_value\n",
    "    \n",
    "    model= Prophet(growth='logistic', yearly_seasonality=False, weekly_seasonality=True,daily_seasonality=True)\n",
    "    # model.add_seasonality(name='quarterly', period=30, fourier_order=5)\n",
    "    model.fit(data)\n",
    "    \n",
    "    # Make future dataframe for the next 90 days\n",
    "    future = model.make_future_dataframe(periods=days_to_predict, include_history=False)\n",
    "    future['cap']=cap_value\n",
    "    \n",
    "    # Forecast the data\n",
    "    forecast = model.predict(future)\n",
    "    \n",
    "    # Store the results\n",
    "    forecast_results[column] = forecast[['ds', 'yhat', 'yhat_lower', 'yhat_upper']]\n"
   ]
  },
  {
   "cell_type": "code",
   "execution_count": 20,
   "id": "7e975181",
   "metadata": {
    "execution": {
     "iopub.execute_input": "2025-01-23T17:01:58.093323Z",
     "iopub.status.busy": "2025-01-23T17:01:58.091331Z",
     "iopub.status.idle": "2025-01-23T17:01:58.233882Z",
     "shell.execute_reply": "2025-01-23T17:01:58.230271Z"
    },
    "papermill": {
     "duration": 0.176073,
     "end_time": "2025-01-23T17:01:58.238885",
     "exception": false,
     "start_time": "2025-01-23T17:01:58.062812",
     "status": "completed"
    },
    "tags": []
   },
   "outputs": [
    {
     "data": {
      "text/html": [
       "<div>\n",
       "<style scoped>\n",
       "    .dataframe tbody tr th:only-of-type {\n",
       "        vertical-align: middle;\n",
       "    }\n",
       "\n",
       "    .dataframe tbody tr th {\n",
       "        vertical-align: top;\n",
       "    }\n",
       "\n",
       "    .dataframe thead th {\n",
       "        text-align: right;\n",
       "    }\n",
       "</style>\n",
       "<table border=\"1\" class=\"dataframe\">\n",
       "  <thead>\n",
       "    <tr style=\"text-align: right;\">\n",
       "      <th></th>\n",
       "      <th>ds</th>\n",
       "      <th>Revenue_forecast</th>\n",
       "      <th>Revenue_lower</th>\n",
       "      <th>Revenue_upper</th>\n",
       "      <th>Expense_forecast</th>\n",
       "      <th>Expense_lower</th>\n",
       "      <th>Expense_upper</th>\n",
       "      <th>Ebida_forecast</th>\n",
       "      <th>Ebida_lower</th>\n",
       "      <th>Ebida_upper</th>\n",
       "      <th>...</th>\n",
       "      <th>Price_Asset_upper</th>\n",
       "      <th>Price_Liability_forecast</th>\n",
       "      <th>Price_Liability_lower</th>\n",
       "      <th>Price_Liability_upper</th>\n",
       "      <th>Equity_forecast</th>\n",
       "      <th>Equity_lower</th>\n",
       "      <th>Equity_upper</th>\n",
       "      <th>COGS_forecast</th>\n",
       "      <th>COGS_lower</th>\n",
       "      <th>COGS_upper</th>\n",
       "    </tr>\n",
       "  </thead>\n",
       "  <tbody>\n",
       "    <tr>\n",
       "      <th>0</th>\n",
       "      <td>2025-01-01</td>\n",
       "      <td>2.624794e+06</td>\n",
       "      <td>818310.559716</td>\n",
       "      <td>4.274492e+06</td>\n",
       "      <td>1.071878e+06</td>\n",
       "      <td>-9984.305792</td>\n",
       "      <td>2.250797e+06</td>\n",
       "      <td>1.298795e+06</td>\n",
       "      <td>-19311.532685</td>\n",
       "      <td>2.602507e+06</td>\n",
       "      <td>...</td>\n",
       "      <td>8.344121e+06</td>\n",
       "      <td>1.799515e+06</td>\n",
       "      <td>72289.650750</td>\n",
       "      <td>3.488825e+06</td>\n",
       "      <td>3.748632e+06</td>\n",
       "      <td>1.196297e+06</td>\n",
       "      <td>6.244568e+06</td>\n",
       "      <td>140984.556950</td>\n",
       "      <td>87942.627405</td>\n",
       "      <td>195708.906624</td>\n",
       "    </tr>\n",
       "    <tr>\n",
       "      <th>1</th>\n",
       "      <td>2025-01-02</td>\n",
       "      <td>2.506832e+06</td>\n",
       "      <td>839525.404970</td>\n",
       "      <td>4.177019e+06</td>\n",
       "      <td>9.788655e+05</td>\n",
       "      <td>-154348.738262</td>\n",
       "      <td>2.103899e+06</td>\n",
       "      <td>1.279369e+06</td>\n",
       "      <td>-47871.281110</td>\n",
       "      <td>2.632148e+06</td>\n",
       "      <td>...</td>\n",
       "      <td>9.029509e+06</td>\n",
       "      <td>2.300720e+06</td>\n",
       "      <td>616198.277114</td>\n",
       "      <td>3.816651e+06</td>\n",
       "      <td>3.754515e+06</td>\n",
       "      <td>1.149754e+06</td>\n",
       "      <td>6.369422e+06</td>\n",
       "      <td>141156.384594</td>\n",
       "      <td>88981.403444</td>\n",
       "      <td>198717.888114</td>\n",
       "    </tr>\n",
       "    <tr>\n",
       "      <th>2</th>\n",
       "      <td>2025-01-03</td>\n",
       "      <td>2.374056e+06</td>\n",
       "      <td>748910.791885</td>\n",
       "      <td>4.023429e+06</td>\n",
       "      <td>1.218151e+06</td>\n",
       "      <td>4180.101787</td>\n",
       "      <td>2.335720e+06</td>\n",
       "      <td>8.928158e+05</td>\n",
       "      <td>-422558.369809</td>\n",
       "      <td>2.207848e+06</td>\n",
       "      <td>...</td>\n",
       "      <td>8.582433e+06</td>\n",
       "      <td>2.036586e+06</td>\n",
       "      <td>304436.686485</td>\n",
       "      <td>3.694728e+06</td>\n",
       "      <td>3.951604e+06</td>\n",
       "      <td>1.513097e+06</td>\n",
       "      <td>6.482908e+06</td>\n",
       "      <td>145447.565457</td>\n",
       "      <td>92267.027783</td>\n",
       "      <td>198626.036332</td>\n",
       "    </tr>\n",
       "    <tr>\n",
       "      <th>3</th>\n",
       "      <td>2025-01-04</td>\n",
       "      <td>2.303879e+06</td>\n",
       "      <td>712588.880896</td>\n",
       "      <td>4.040652e+06</td>\n",
       "      <td>1.236750e+06</td>\n",
       "      <td>113406.736142</td>\n",
       "      <td>2.360771e+06</td>\n",
       "      <td>8.075119e+05</td>\n",
       "      <td>-412573.786260</td>\n",
       "      <td>2.245207e+06</td>\n",
       "      <td>...</td>\n",
       "      <td>8.577951e+06</td>\n",
       "      <td>1.920855e+06</td>\n",
       "      <td>346486.960314</td>\n",
       "      <td>3.526409e+06</td>\n",
       "      <td>4.000211e+06</td>\n",
       "      <td>1.585604e+06</td>\n",
       "      <td>6.460590e+06</td>\n",
       "      <td>141490.585800</td>\n",
       "      <td>88125.000608</td>\n",
       "      <td>193306.262128</td>\n",
       "    </tr>\n",
       "    <tr>\n",
       "      <th>4</th>\n",
       "      <td>2025-01-05</td>\n",
       "      <td>2.226668e+06</td>\n",
       "      <td>612641.622197</td>\n",
       "      <td>3.944167e+06</td>\n",
       "      <td>9.993490e+05</td>\n",
       "      <td>-210116.067886</td>\n",
       "      <td>2.233631e+06</td>\n",
       "      <td>9.730704e+05</td>\n",
       "      <td>-337130.752564</td>\n",
       "      <td>2.250739e+06</td>\n",
       "      <td>...</td>\n",
       "      <td>8.417357e+06</td>\n",
       "      <td>1.966949e+06</td>\n",
       "      <td>356464.934201</td>\n",
       "      <td>3.623133e+06</td>\n",
       "      <td>3.654473e+06</td>\n",
       "      <td>1.048282e+06</td>\n",
       "      <td>6.407096e+06</td>\n",
       "      <td>145145.890306</td>\n",
       "      <td>94385.532989</td>\n",
       "      <td>197885.555892</td>\n",
       "    </tr>\n",
       "  </tbody>\n",
       "</table>\n",
       "<p>5 rows × 25 columns</p>\n",
       "</div>"
      ],
      "text/plain": [
       "          ds  Revenue_forecast  Revenue_lower  Revenue_upper  \\\n",
       "0 2025-01-01      2.624794e+06  818310.559716   4.274492e+06   \n",
       "1 2025-01-02      2.506832e+06  839525.404970   4.177019e+06   \n",
       "2 2025-01-03      2.374056e+06  748910.791885   4.023429e+06   \n",
       "3 2025-01-04      2.303879e+06  712588.880896   4.040652e+06   \n",
       "4 2025-01-05      2.226668e+06  612641.622197   3.944167e+06   \n",
       "\n",
       "   Expense_forecast  Expense_lower  Expense_upper  Ebida_forecast  \\\n",
       "0      1.071878e+06   -9984.305792   2.250797e+06    1.298795e+06   \n",
       "1      9.788655e+05 -154348.738262   2.103899e+06    1.279369e+06   \n",
       "2      1.218151e+06    4180.101787   2.335720e+06    8.928158e+05   \n",
       "3      1.236750e+06  113406.736142   2.360771e+06    8.075119e+05   \n",
       "4      9.993490e+05 -210116.067886   2.233631e+06    9.730704e+05   \n",
       "\n",
       "     Ebida_lower   Ebida_upper  ...  Price_Asset_upper  \\\n",
       "0  -19311.532685  2.602507e+06  ...       8.344121e+06   \n",
       "1  -47871.281110  2.632148e+06  ...       9.029509e+06   \n",
       "2 -422558.369809  2.207848e+06  ...       8.582433e+06   \n",
       "3 -412573.786260  2.245207e+06  ...       8.577951e+06   \n",
       "4 -337130.752564  2.250739e+06  ...       8.417357e+06   \n",
       "\n",
       "   Price_Liability_forecast  Price_Liability_lower  Price_Liability_upper  \\\n",
       "0              1.799515e+06           72289.650750           3.488825e+06   \n",
       "1              2.300720e+06          616198.277114           3.816651e+06   \n",
       "2              2.036586e+06          304436.686485           3.694728e+06   \n",
       "3              1.920855e+06          346486.960314           3.526409e+06   \n",
       "4              1.966949e+06          356464.934201           3.623133e+06   \n",
       "\n",
       "   Equity_forecast  Equity_lower  Equity_upper  COGS_forecast    COGS_lower  \\\n",
       "0     3.748632e+06  1.196297e+06  6.244568e+06  140984.556950  87942.627405   \n",
       "1     3.754515e+06  1.149754e+06  6.369422e+06  141156.384594  88981.403444   \n",
       "2     3.951604e+06  1.513097e+06  6.482908e+06  145447.565457  92267.027783   \n",
       "3     4.000211e+06  1.585604e+06  6.460590e+06  141490.585800  88125.000608   \n",
       "4     3.654473e+06  1.048282e+06  6.407096e+06  145145.890306  94385.532989   \n",
       "\n",
       "      COGS_upper  \n",
       "0  195708.906624  \n",
       "1  198717.888114  \n",
       "2  198626.036332  \n",
       "3  193306.262128  \n",
       "4  197885.555892  \n",
       "\n",
       "[5 rows x 25 columns]"
      ]
     },
     "execution_count": 20,
     "metadata": {},
     "output_type": "execute_result"
    }
   ],
   "source": [
    "# Combine forecasts into a single dataframe\n",
    "combined_forecast = pd.DataFrame({'ds': forecast_results[columns_to_forecast[0]]['ds']})\n",
    "\n",
    "for column in columns_to_forecast:\n",
    "    col_forecast = forecast_results[column].rename(columns={\n",
    "        'yhat': f'{column}_forecast',\n",
    "        'yhat_lower': f'{column}_lower',\n",
    "        'yhat_upper': f'{column}_upper'\n",
    "    })\n",
    "    combined_forecast = combined_forecast.merge(col_forecast, on='ds')\n",
    "\n",
    "# Save or view the combined forecast\n",
    "combined_forecast.head()\n"
   ]
  },
  {
   "cell_type": "code",
   "execution_count": 21,
   "id": "02aaeebf",
   "metadata": {
    "execution": {
     "iopub.execute_input": "2025-01-23T17:01:58.302557Z",
     "iopub.status.busy": "2025-01-23T17:01:58.301560Z",
     "iopub.status.idle": "2025-01-23T17:02:04.667715Z",
     "shell.execute_reply": "2025-01-23T17:02:04.663940Z"
    },
    "papermill": {
     "duration": 6.405269,
     "end_time": "2025-01-23T17:02:04.672513",
     "exception": false,
     "start_time": "2025-01-23T17:01:58.267244",
     "status": "completed"
    },
    "tags": []
   },
   "outputs": [
    {
     "data": {
      "text/plain": [
       "<Figure size 640x480 with 0 Axes>"
      ]
     },
     "metadata": {},
     "output_type": "display_data"
    }
   ],
   "source": [
    "import matplotlib.pyplot as plt\n",
    "import os\n",
    "\n",
    "script_dir = os.getcwd()\n",
    "images_dir = os.path.join(os.path.dirname(script_dir), '../images')\n",
    "\n",
    "if not os.path.exists(images_dir):\n",
    "    os.makedirs(images_dir)\n",
    "\n",
    "# Example for a single column\n",
    "for column in columns_to_forecast:\n",
    "    plt.plot(df_to_predict['Date_Of_Ownership'], df_to_predict[column], label='Actual')\n",
    "    plt.plot(forecast_results[column]['ds'], forecast_results[column]['yhat'], label='Forecast')\n",
    "    plt.fill_between(forecast_results[column]['ds'], forecast_results[column]['yhat_lower'], forecast_results[column]['yhat_upper'], alpha=0.2, label='Uncertainty Interval')\n",
    "    plt.legend()\n",
    "    plt.title(f\"{column} prediction\")\n",
    "    file_path = os.path.join(images_dir, f\"{column}.png\")\n",
    "    plt.savefig(file_path)\n",
    "\n",
    "    plt.clf()\n",
    "    \n",
    "    # plt.show()"
   ]
  }
 ],
 "metadata": {
  "kernelspec": {
   "display_name": "Python 3",
   "language": "python",
   "name": "python3"
  },
  "language_info": {
   "codemirror_mode": {
    "name": "ipython",
    "version": 3
   },
   "file_extension": ".py",
   "mimetype": "text/x-python",
   "name": "python",
   "nbconvert_exporter": "python",
   "pygments_lexer": "ipython3",
   "version": "3.11.4"
  },
  "papermill": {
   "default_parameters": {},
   "duration": 44.345422,
   "end_time": "2025-01-23T17:02:07.704482",
   "environment_variables": {},
   "exception": null,
   "input_path": "C:\\Users\\ignas\\OneDrive\\Desktop\\CapstoneProject\\prediction\\company_forecast.ipynb",
   "output_path": "C:\\Users\\ignas\\OneDrive\\Desktop\\CapstoneProject\\prediction\\executed_company_forecast.ipynb",
   "parameters": {
    "Company_Investor_Name": "Great Investors",
    "Company_Name": "Finance Helpers",
    "Domicile_Name": "Jakarta"
   },
   "start_time": "2025-01-23T17:01:23.359060",
   "version": "2.6.0"
  }
 },
 "nbformat": 4,
 "nbformat_minor": 5
}